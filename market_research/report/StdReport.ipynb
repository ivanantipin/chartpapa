{
 "cells": [
  {
   "cell_type": "code",
   "execution_count": 11,
   "metadata": {
    "pycharm": {
     "is_executing": false
    }
   },
   "outputs": [
    {
     "data": {
      "application/javascript": "IPython.notebook.set_autosave_interval(50000)"
     },
     "metadata": {},
     "output_type": "display_data"
    },
    {
     "name": "stdout",
     "text": [
      "Autosaving every 50 seconds\n"
     ],
     "output_type": "stream"
    }
   ],
   "source": [
    "%autosave 50"
   ]
  },
  {
   "cell_type": "code",
   "execution_count": 12,
   "metadata": {
    "pycharm": {
     "is_executing": false
    }
   },
   "outputs": [
    {
     "name": "stdout",
     "text": [
      "\n"
     ],
     "output_type": "stream"
    }
   ],
   "source": [
    "from __future__ import print_function\n",
    "from ipywidgets import interact, interactive, fixed, interact_manual\n",
    "import ipywidgets as widgets\n",
    "import os\n",
    "import report.TradesReporter as tr\n",
    "import pandas as pd\n",
    "from IPython.display import HTML\n",
    "import json\n",
    "import importlib\n",
    "pd.set_option('notebook_repr_html',True)\n",
    "pd.set_option('use_inf_as_na', True)\n",
    "importlib.reload(tr)\n",
    "import matplotlib.pyplot as plt\n"
   ]
  },
  {
   "cell_type": "code",
   "execution_count": 13,
   "metadata": {
    "pycharm": {
     "is_executing": false
    }
   },
   "outputs": [],
   "source": [
    "root=os.getcwd()\n",
    "with open(root + '/cfg.json') as data_file:    \n",
    "    modelCfg = json.load(data_file)\n",
    "simpleRun = modelCfg['optConfig']['params'] == None\n",
    "bs=tr.BacktestResults(filename=root + '/report.db')\n",
    "mc=tr.MetricsCalculator()\n",
    "\n",
    "# bs.trades=bs.trades[bs.trades.OH > 0.5]\n",
    "# bs.trades=bs.trades[bs.trades.EntryDate.map(lambda x : x.weekday()) <= 2]\n",
    "\n"
   ]
  },
  {
   "cell_type": "code",
   "execution_count": 14,
   "metadata": {
    "pycharm": {
     "is_executing": false
    }
   },
   "outputs": [
    {
     "data": {
      "text/plain": "<IPython.core.display.HTML object>",
      "text/html": "<h3 align=\"center\">Model params</h3>"
     },
     "metadata": {},
     "output_type": "display_data"
    },
    {
     "data": {
      "text/plain": "<IPython.core.display.HTML object>",
      "text/html": "<table border=\"1\" class=\"dataframe\">\n  <thead>\n    <tr style=\"text-align: right;\">\n      <th></th>\n      <th>0</th>\n    </tr>\n  </thead>\n  <tbody>\n    <tr>\n      <th>holddays</th>\n      <td>3</td>\n    </tr>\n  </tbody>\n</table>"
     },
     "metadata": {},
     "output_type": "display_data"
    }
   ],
   "source": [
    "modelProps=dict(line.strip().split('=') for line in open('modelProps.properties')) \n",
    "display(tr.displayTitle('Model params'))\n",
    "display(HTML( pd.DataFrame(pd.Series(modelProps)).to_html()))"
   ]
  },
  {
   "cell_type": "code",
   "execution_count": 15,
   "metadata": {
    "pycharm": {
     "is_executing": false
    }
   },
   "outputs": [
    {
     "data": {
      "text/plain": "Tab(children=(Output(), Output(), Output(), Output(), Output(), Output(), Output(), Output(), Output(), Output…",
      "application/vnd.jupyter.widget-view+json": {
       "version_major": 2,
       "version_minor": 0,
       "model_id": "7f395c2b36f04687a77e677f89a1e8c9"
      }
     },
     "metadata": {},
     "output_type": "display_data"
    }
   ],
   "source": [
    "display(bs.makeTickersTab())"
   ]
  },
  {
   "cell_type": "code",
   "execution_count": 16,
   "metadata": {
    "pycharm": {
     "is_executing": false
    }
   },
   "outputs": [
    {
     "data": {
      "text/plain": "<IPython.core.display.HTML object>",
      "text/html": "<h3 align=\"center\">Pnl/Factors</h3>"
     },
     "metadata": {},
     "output_type": "display_data"
    },
    {
     "data": {
      "text/plain": "Tab(children=(Output(), Output()), _titles={'0': 'SomeFactor'})",
      "application/vnd.jupyter.widget-view+json": {
       "version_major": 2,
       "version_minor": 0,
       "model_id": "99a48e4a507a4a7bad73472faddd1730"
      }
     },
     "metadata": {},
     "output_type": "display_data"
    }
   ],
   "source": [
    "display(tr.displayTitle('Pnl/Factors'))\n",
    "bs.getFactorCols()\n",
    "bs.plotFactors() "
   ]
  },
  {
   "cell_type": "code",
   "execution_count": 17,
   "metadata": {
    "pycharm": {
     "is_executing": false
    }
   },
   "outputs": [
    {
     "data": {
      "text/plain": "<IPython.core.display.HTML object>",
      "text/html": "<h3 align=\"center\">Seasonalities</h3>"
     },
     "metadata": {},
     "output_type": "display_data"
    },
    {
     "data": {
      "text/plain": "Tab(children=(Output(), Output(), Output()), _titles={'0': 'weekday', '1': 'month', '2': 'hour'})",
      "application/vnd.jupyter.widget-view+json": {
       "version_major": 2,
       "version_minor": 0,
       "model_id": "d2af3c41f34b4997b7e5084369572e0d"
      }
     },
     "metadata": {},
     "output_type": "display_data"
    }
   ],
   "source": [
    "display(tr.displayTitle('Seasonalities'))\n",
    "display(bs.plotSeasonalities())"
   ]
  },
  {
   "cell_type": "code",
   "execution_count": 18,
   "metadata": {
    "pycharm": {
     "is_executing": false
    }
   },
   "outputs": [],
   "source": [
    "from IPython.display import display\n",
    "from ipywidgets import Checkbox\n",
    "from IPython.display import clear_output\n",
    "from ipywidgets import Checkbox, VBox, HBox\n",
    "\n",
    "optOut=widgets.Output()\n",
    "\n",
    "def chunks(l, n):\n",
    "    n = max(1, n)\n",
    "    return (l[i:i+n] for i in range(0, len(l), n))\n",
    "\n",
    "ch=[Checkbox(description=i) for i in bs.opts.columns if not i.startswith('opt_') ]\n",
    "\n",
    "display(HBox(children=list([VBox(children=x) for x in chunks(ch,4)])))\n",
    "\n",
    "optCols = [i for i in bs.opts.columns if i.startswith('opt_') ]\n",
    "dfOpt = bs.opts.sort_values(by=optCols[0])                    \n",
    "\n",
    "\n",
    "def changed(b):    \n",
    "    with optOut:              \n",
    "        clear_output(wait=True)\n",
    "        for me in list([i.description for i in ch if i.value]):                    \n",
    "            fig = plt.figure(figsize=plt.figaspect(0.3))\n",
    "            fig.set_size_inches([20, 5])\n",
    "            X = dfOpt[optCols[0]]\n",
    "            Y = dfOpt[me]\n",
    "            plt.plot(X, Y)\n",
    "            plt.title(me)\n",
    "        plt.show()\n",
    "    return optOut\n",
    "\n",
    "for c in ch:\n",
    "    c.observe(changed)\n",
    "\n",
    "display(optOut)\n",
    "\n"
   ]
  },
  {
   "cell_type": "code",
   "execution_count": 18,
   "metadata": {
    "pycharm": {
     "is_executing": false
    }
   },
   "outputs": [],
   "source": [
    "\n",
    "\n",
    "\n"
   ]
  }
 ],
 "metadata": {
  "kernelspec": {
   "display_name": "Python 3",
   "language": "python",
   "name": "python3"
  },
  "language_info": {
   "codemirror_mode": {
    "name": "ipython",
    "version": 3
   },
   "file_extension": ".py",
   "mimetype": "text/x-python",
   "name": "python",
   "nbconvert_exporter": "python",
   "pygments_lexer": "ipython3",
   "version": "3.7.3"
  },
  "name": "",
  "pycharm": {
   "stem_cell": {
    "cell_type": "raw",
    "source": [],
    "metadata": {
     "collapsed": false
    }
   }
  }
 },
 "nbformat": 4,
 "nbformat_minor": 4
}