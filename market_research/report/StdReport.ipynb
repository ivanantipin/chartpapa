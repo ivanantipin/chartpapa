{
 "cells": [
  {
   "cell_type": "code",
   "execution_count": 1,
   "metadata": {
    "pycharm": {
     "is_executing": false
    }
   },
   "outputs": [
    {
     "data": {
      "application/javascript": [
       "IPython.notebook.set_autosave_interval(50000)"
      ]
     },
     "metadata": {},
     "output_type": "display_data"
    },
    {
     "name": "stdout",
     "output_type": "stream",
     "text": [
      "Autosaving every 50 seconds\n"
     ]
    }
   ],
   "source": [
    "%autosave 50"
   ]
  },
  {
   "cell_type": "code",
   "execution_count": 2,
   "metadata": {
    "pycharm": {
     "is_executing": false
    }
   },
   "outputs": [
    {
     "name": "stdout",
     "output_type": "stream",
     "text": [
      "['ReversModel']\n",
      "['ReversModel']\n"
     ]
    }
   ],
   "source": [
    "from __future__ import print_function\n",
    "from ipywidgets import interact, interactive, fixed, interact_manual\n",
    "import ipywidgets as widgets\n",
    "import os\n",
    "import TradesReporter as tr\n",
    "import pandas as pd\n",
    "from IPython.display import HTML\n",
    "import json\n",
    "import importlib\n",
    "pd.set_option('notebook_repr_html',True)\n",
    "pd.set_option('use_inf_as_na', True)\n",
    "importlib.reload(tr)\n",
    "import matplotlib.pyplot as plt\n",
    "\n"
   ]
  },
  {
   "cell_type": "code",
   "execution_count": 3,
   "metadata": {
    "pycharm": {
     "is_executing": false
    }
   },
   "outputs": [],
   "source": [
    "root=os.getcwd()\n",
    "filename=root + '/report.db'\n",
    "\n",
    "# bs.trades=bs.trades[bs.trades.OH > 0.5]\n",
    "# bs.trades=bs.trades[bs.trades.EntryDate.map(lambda x : x.weekday()) <= 2]\n"
   ]
  },
  {
   "cell_type": "code",
   "execution_count": 4,
   "metadata": {},
   "outputs": [],
   "source": [
    "import sqlite3\n",
    "cnx = sqlite3.connect(root + '/report.db')\n"
   ]
  },
  {
   "cell_type": "code",
   "execution_count": 5,
   "metadata": {
    "pycharm": {
     "is_executing": false
    }
   },
   "outputs": [
    {
     "data": {
      "text/html": [
       "<h3 align=\"center\">Model params</h3>"
      ],
      "text/plain": [
       "<IPython.core.display.HTML object>"
      ]
     },
     "metadata": {},
     "output_type": "display_data"
    },
    {
     "data": {
      "text/html": [
       "<table border=\"1\" class=\"dataframe\">\n",
       "  <thead>\n",
       "    <tr style=\"text-align: right;\">\n",
       "      <th></th>\n",
       "      <th>0</th>\n",
       "    </tr>\n",
       "  </thead>\n",
       "  <tbody>\n",
       "    <tr>\n",
       "      <th>trade_size</th>\n",
       "      <td>100000</td>\n",
       "    </tr>\n",
       "    <tr>\n",
       "      <th>window</th>\n",
       "      <td>13000</td>\n",
       "    </tr>\n",
       "    <tr>\n",
       "      <th>diff</th>\n",
       "      <td>18</td>\n",
       "    </tr>\n",
       "  </tbody>\n",
       "</table>"
      ],
      "text/plain": [
       "<IPython.core.display.HTML object>"
      ]
     },
     "metadata": {},
     "output_type": "display_data"
    }
   ],
   "source": [
    "modelProps=dict(line.strip().split('=') for line in open('modelProps.properties')) \n",
    "display(tr.displayTitle('Model params'))\n",
    "display(HTML( pd.DataFrame(pd.Series(modelProps)).to_html()))"
   ]
  },
  {
   "cell_type": "code",
   "execution_count": 6,
   "metadata": {
    "pycharm": {
     "is_executing": false
    }
   },
   "outputs": [
    {
     "data": {
      "application/vnd.jupyter.widget-view+json": {
       "model_id": "8dbc967b909f427fbe2059d3107f51f2",
       "version_major": 2,
       "version_minor": 0
      },
      "text/plain": [
       "Tab(children=(Output(), Tab(children=(Output(),), _titles={'0': 'Overall stat for ReversModel'})), _titles={'0…"
      ]
     },
     "metadata": {},
     "output_type": "display_data"
    }
   ],
   "source": [
    "trades=tr.load(filename)\n",
    "# trades=trades[trades.EntryDate.map(lambda x : x.weekday()) > 3]\n",
    "display(tr.makeTickersTabTop(trades))\n"
   ]
  },
  {
   "cell_type": "code",
   "execution_count": 7,
   "metadata": {
    "pycharm": {
     "is_executing": false
    }
   },
   "outputs": [
    {
     "name": "stdout",
     "output_type": "stream",
     "text": [
      "['ReversModel']\n"
     ]
    },
    {
     "data": {
      "text/html": [
       "<h3 align=\"center\">Pnl/Factors</h3>"
      ],
      "text/plain": [
       "<IPython.core.display.HTML object>"
      ]
     },
     "metadata": {},
     "output_type": "display_data"
    },
    {
     "data": {
      "application/vnd.jupyter.widget-view+json": {
       "model_id": "be5dfc6e830042bbb5a7dc03c98c99cb",
       "version_major": 2,
       "version_minor": 0
      },
      "text/plain": [
       "Tab(children=(Tab(children=(Output(), Output(), Output(), Output(), Output(), Output()), _titles={'0': 'volume…"
      ]
     },
     "metadata": {},
     "output_type": "display_data"
    }
   ],
   "source": [
    "importlib.reload(tr)\n",
    "display(tr.displayTitle('Pnl/Factors'))\n",
    "tr.displayFactors(filename,tr.getModels(trades))"
   ]
  },
  {
   "cell_type": "code",
   "execution_count": 8,
   "metadata": {
    "pycharm": {
     "is_executing": false
    }
   },
   "outputs": [
    {
     "name": "stdout",
     "output_type": "stream",
     "text": [
      "no opts\n"
     ]
    }
   ],
   "source": [
    "from IPython.display import display\n",
    "from ipywidgets import Checkbox\n",
    "from IPython.display import clear_output\n",
    "from ipywidgets import Checkbox, VBox, HBox\n",
    "\n",
    "def changed(b):    \n",
    "    with optOut:              \n",
    "        clear_output(wait=True)\n",
    "        for me in list([i.description for i in ch if i.value]):                    \n",
    "            fig = plt.figure(figsize=plt.figaspect(0.3))\n",
    "            fig.set_size_inches([20, 5])\n",
    "            X = dfOpt[optCols[0]]\n",
    "            Y = dfOpt[me]\n",
    "            plt.plot(X, Y)\n",
    "            plt.title(me)\n",
    "        plt.show()\n",
    "    return optOut\n",
    "\n",
    "opts = tr.loadOpts(filename)\n",
    "if opts :\n",
    "     \n",
    "    optOut=widgets.Output()\n",
    "\n",
    "    def chunks(l, n):\n",
    "        n = max(1, n)\n",
    "        return (l[i:i+n] for i in range(0, len(l), n))\n",
    "\n",
    "    ch=[Checkbox(description=i) for i in bs.opts.columns if not i.startswith('opt_') ]\n",
    "\n",
    "    display(HBox(children=list([VBox(children=x) for x in chunks(ch,4)])))\n",
    "\n",
    "    optCols = [i for i in bs.opts.columns if i.startswith('opt_') ]\n",
    "    dfOpt = bs.opts.sort_values(by=optCols[0])\n",
    "\n",
    "    for c in ch:\n",
    "        c.observe(changed)\n",
    "\n",
    "    display(optOut)\n",
    "\n"
   ]
  },
  {
   "cell_type": "code",
   "execution_count": null,
   "metadata": {
    "pycharm": {
     "is_executing": false
    }
   },
   "outputs": [],
   "source": [
    "\n",
    "\n",
    "\n"
   ]
  }
 ],
 "metadata": {
  "kernelspec": {
   "display_name": "Python 3",
   "language": "python",
   "name": "python3"
  },
  "language_info": {
   "codemirror_mode": {
    "name": "ipython",
    "version": 3
   },
   "file_extension": ".py",
   "mimetype": "text/x-python",
   "name": "python",
   "nbconvert_exporter": "python",
   "pygments_lexer": "ipython3",
   "version": "3.7.3"
  },
  "name": "",
  "pycharm": {
   "stem_cell": {
    "cell_type": "raw",
    "metadata": {
     "collapsed": false
    },
    "source": []
   }
  }
 },
 "nbformat": 4,
 "nbformat_minor": 4
}
