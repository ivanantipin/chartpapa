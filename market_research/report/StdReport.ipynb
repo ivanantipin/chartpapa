{
 "cells": [
  {
   "cell_type": "code",
   "execution_count": 1,
   "metadata": {},
   "outputs": [
    {
     "data": {
      "application/javascript": [
       "IPython.notebook.set_autosave_interval(50000)"
      ]
     },
     "metadata": {},
     "output_type": "display_data"
    },
    {
     "name": "stdout",
     "output_type": "stream",
     "text": [
      "Autosaving every 50 seconds\n"
     ]
    }
   ],
   "source": [
    "%autosave 50"
   ]
  },
  {
   "cell_type": "code",
   "execution_count": 2,
   "metadata": {},
   "outputs": [],
   "source": [
    "from __future__ import print_function\n",
    "from ipywidgets import interact, interactive, fixed, interact_manual\n",
    "import ipywidgets as widgets\n",
    "import os\n",
    "import TradesReporter as tr\n",
    "import pandas as pd\n",
    "from IPython.display import HTML\n",
    "import json\n",
    "import importlib\n",
    "pd.set_option('notebook_repr_html',True)\n",
    "pd.set_option('use_inf_as_na', True)\n",
    "importlib.reload(tr)\n",
    "import matplotlib.pyplot as plt\n"
   ]
  },
  {
   "cell_type": "code",
   "execution_count": 3,
   "metadata": {},
   "outputs": [],
   "source": [
    "root=os.getcwd()\n",
    "with open(root + '/cfg.json') as data_file:    \n",
    "    modelCfg = json.load(data_file)\n",
    "simpleRun = modelCfg['optConfig']['params'] == None\n",
    "bs=tr.BacktestResults(filename=root + '/report.db')\n",
    "mc=tr.MetricsCalculator()\n"
   ]
  },
  {
   "cell_type": "code",
   "execution_count": 4,
   "metadata": {},
   "outputs": [
    {
     "data": {
      "text/html": [
       "<h3 align=\"center\">Model params</h3>"
      ],
      "text/plain": [
       "<IPython.core.display.HTML object>"
      ]
     },
     "metadata": {},
     "output_type": "display_data"
    },
    {
     "data": {
      "text/html": [
       "<table border=\"1\" class=\"dataframe\">\n",
       "  <thead>\n",
       "    <tr style=\"text-align: right;\">\n",
       "      <th></th>\n",
       "      <th>0</th>\n",
       "    </tr>\n",
       "  </thead>\n",
       "  <tbody>\n",
       "    <tr>\n",
       "      <th>period</th>\n",
       "      <td>20</td>\n",
       "    </tr>\n",
       "  </tbody>\n",
       "</table>"
      ],
      "text/plain": [
       "<IPython.core.display.HTML object>"
      ]
     },
     "metadata": {},
     "output_type": "display_data"
    }
   ],
   "source": [
    "modelProps=dict(line.strip().split('=') for line in open('modelProps.properties')) \n",
    "display(tr.displayTitle('Model params'))\n",
    "display(HTML( pd.DataFrame(pd.Series(modelProps)).to_html()))"
   ]
  },
  {
   "cell_type": "code",
   "execution_count": 5,
   "metadata": {},
   "outputs": [
    {
     "data": {
      "application/vnd.jupyter.widget-view+json": {
       "model_id": "c64870254f8040ce9ac28dbcf0dd9b38",
       "version_major": 2,
       "version_minor": 0
      },
      "text/plain": [
       "Tab(children=(Output(), Output(), Output(), Output(), Output(), Output(), Output(), Output(), Output(), Output…"
      ]
     },
     "metadata": {},
     "output_type": "display_data"
    }
   ],
   "source": [
    "display(bs.makeTickersTab())"
   ]
  },
  {
   "cell_type": "code",
   "execution_count": 6,
   "metadata": {},
   "outputs": [
    {
     "data": {
      "text/html": [
       "<h3 align=\"center\">Pnl/Factors</h3>"
      ],
      "text/plain": [
       "<IPython.core.display.HTML object>"
      ]
     },
     "metadata": {},
     "output_type": "display_data"
    },
    {
     "name": "stdout",
     "output_type": "stream",
     "text": [
      "['HoldTimeHours']\n"
     ]
    },
    {
     "data": {
      "image/png": "[encoded data removed]",
      "text/plain": [
       "<Figure size 2160x288 with 1 Axes>"
      ]
     },
     "metadata": {
      "needs_background": "light"
     },
     "output_type": "display_data"
    }
   ],
   "source": [
    "display(tr.displayTitle('Pnl/Factors'))\n",
    "bs.plotFactors() "
   ]
  },
  {
   "cell_type": "code",
   "execution_count": 7,
   "metadata": {},
   "outputs": [
    {
     "data": {
      "text/html": [
       "<h3 align=\"center\">Seasonalities</h3>"
      ],
      "text/plain": [
       "<IPython.core.display.HTML object>"
      ]
     },
     "metadata": {},
     "output_type": "display_data"
    },
    {
     "data": {
      "application/vnd.jupyter.widget-view+json": {
       "model_id": "38cfaa978ecc484fa483ccaaa97bb319",
       "version_major": 2,
       "version_minor": 0
      },
      "text/plain": [
       "Tab(children=(Output(), Output(), Output()), _titles={'0': 'weekday', '1': 'month', '2': 'hour'})"
      ]
     },
     "metadata": {},
     "output_type": "display_data"
    }
   ],
   "source": [
    "display(tr.displayTitle('Seasonalities'))\n",
    "display(bs.plotSeasonalities())"
   ]
  },
  {
   "cell_type": "code",
   "execution_count": 89,
   "metadata": {},
   "outputs": [
    {
     "data": {
      "application/vnd.jupyter.widget-view+json": {
       "model_id": "25e87512f88e422a8ca2a7f464bf8fa1",
       "version_major": 2,
       "version_minor": 0
      },
      "text/plain": [
       "HBox(children=(VBox(children=(Checkbox(value=False, description='AvgPnl'), Checkbox(value=False, description='…"
      ]
     },
     "metadata": {},
     "output_type": "display_data"
    },
    {
     "data": {
      "application/vnd.jupyter.widget-view+json": {
       "model_id": "f00a9e467514457daba0eb699eaad5ff",
       "version_major": 2,
       "version_minor": 0
      },
      "text/plain": [
       "Output()"
      ]
     },
     "metadata": {},
     "output_type": "display_data"
    }
   ],
   "source": [
    "from IPython.display import display\n",
    "from ipywidgets import Checkbox\n",
    "from IPython.display import clear_output\n",
    "from ipywidgets import Checkbox, VBox, HBox\n",
    "\n",
    "optOut=widgets.Output()\n",
    "\n",
    "def chunks(l, n):\n",
    "    n = max(1, n)\n",
    "    return (l[i:i+n] for i in range(0, len(l), n))\n",
    "\n",
    "ch=[Checkbox(description=i) for i in bs.opts.columns if not i.startswith('opt_') ]\n",
    "\n",
    "display(HBox(children=list([VBox(children=x) for x in chunks(ch,4)])))\n",
    "\n",
    "optCols = [i for i in bs.opts.columns if i.startswith('opt_') ]\n",
    "dfOpt = bs.opts.sort_values(by=optCols[0])                    \n",
    "\n",
    "\n",
    "def changed(b):    \n",
    "    with optOut:              \n",
    "        clear_output(wait=True)\n",
    "        for me in list([i.description for i in ch if i.value]):                    \n",
    "            fig = plt.figure(figsize=plt.figaspect(0.3))\n",
    "            fig.set_size_inches([20, 5])\n",
    "            X = dfOpt[optCols[0]]\n",
    "            Y = dfOpt[me]\n",
    "            plt.plot(X, Y)\n",
    "            plt.title(me)\n",
    "        plt.show()\n",
    "    return optOut\n",
    "\n",
    "for c in ch:\n",
    "    c.observe(changed)\n",
    "\n",
    "display(optOut)\n",
    "\n"
   ]
  },
  {
   "cell_type": "code",
   "execution_count": 80,
   "metadata": {},
   "outputs": [
    {
     "data": {
      "application/vnd.jupyter.widget-view+json": {
       "model_id": "7f3ff88138814a05a3257d56ffe7f4ee",
       "version_major": 2,
       "version_minor": 0
      },
      "text/plain": [
       "Output()"
      ]
     },
     "metadata": {},
     "output_type": "display_data"
    }
   ],
   "source": [
    "\n",
    "\n",
    "\n"
   ]
  }
 ],
 "metadata": {
  "kernelspec": {
   "display_name": "Python 3",
   "language": "python",
   "name": "python3"
  },
  "language_info": {
   "codemirror_mode": {
    "name": "ipython",
    "version": 3
   },
   "file_extension": ".py",
   "mimetype": "text/x-python",
   "name": "python",
   "nbconvert_exporter": "python",
   "pygments_lexer": "ipython3",
   "version": "3.7.1"
  },
  "name": ""
 },
 "nbformat": 4,
 "nbformat_minor": 2
}
