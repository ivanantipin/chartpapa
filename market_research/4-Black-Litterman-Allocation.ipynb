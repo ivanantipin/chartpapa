{
 "cells": [
  {
   "cell_type": "code",
   "execution_count": 1,
   "metadata": {},
   "outputs": [],
   "source": [
    "import numpy as np\n",
    "import pandas as pd\n",
    "import matplotlib.pyplot as plt\n",
    "import yfinance as yf"
   ]
  },
  {
   "cell_type": "code",
   "execution_count": 2,
   "metadata": {},
   "outputs": [
    {
     "name": "stderr",
     "output_type": "stream",
     "text": [
      "/opt/conda/lib/python3.7/site-packages/ipykernel_launcher.py:6: DeprecationWarning: numpy.npv is deprecated and will be removed from NumPy 1.20. Use numpy_financial.npv instead (https://pypi.org/project/numpy-financial/).\n",
      "  \n"
     ]
    },
    {
     "name": "stdout",
     "output_type": "stream",
     "text": [
      "[*********************100%***********************]  19 of 19 completed\n"
     ]
    },
    {
     "data": {
      "text/html": [
       "<div>\n",
       "<style scoped>\n",
       "    .dataframe tbody tr th:only-of-type {\n",
       "        vertical-align: middle;\n",
       "    }\n",
       "\n",
       "    .dataframe tbody tr th {\n",
       "        vertical-align: top;\n",
       "    }\n",
       "\n",
       "    .dataframe thead th {\n",
       "        text-align: right;\n",
       "    }\n",
       "</style>\n",
       "<table border=\"1\" class=\"dataframe\">\n",
       "  <thead>\n",
       "    <tr style=\"text-align: right;\">\n",
       "      <th></th>\n",
       "      <th>ticker</th>\n",
       "      <th>amount</th>\n",
       "      <th>oneYearTarget</th>\n",
       "      <th>threeYearTarget</th>\n",
       "      <th>npv</th>\n",
       "      <th>price</th>\n",
       "      <th>upside</th>\n",
       "    </tr>\n",
       "  </thead>\n",
       "  <tbody>\n",
       "    <tr>\n",
       "      <th>0</th>\n",
       "      <td>RUAL.ME</td>\n",
       "      <td>84450</td>\n",
       "      <td>40.000</td>\n",
       "      <td>60.000</td>\n",
       "      <td>43.180525</td>\n",
       "      <td>30.100000</td>\n",
       "      <td>0.434569</td>\n",
       "    </tr>\n",
       "    <tr>\n",
       "      <th>1</th>\n",
       "      <td>RASP.ME</td>\n",
       "      <td>30000</td>\n",
       "      <td>150.000</td>\n",
       "      <td>200.000</td>\n",
       "      <td>151.723246</td>\n",
       "      <td>112.820000</td>\n",
       "      <td>0.344826</td>\n",
       "    </tr>\n",
       "    <tr>\n",
       "      <th>2</th>\n",
       "      <td>SBER.ME</td>\n",
       "      <td>10000</td>\n",
       "      <td>280.000</td>\n",
       "      <td>400.000</td>\n",
       "      <td>294.100697</td>\n",
       "      <td>226.809998</td>\n",
       "      <td>0.296683</td>\n",
       "    </tr>\n",
       "    <tr>\n",
       "      <th>3</th>\n",
       "      <td>QIWI.ME</td>\n",
       "      <td>0</td>\n",
       "      <td>1600.000</td>\n",
       "      <td>2000.000</td>\n",
       "      <td>1563.961428</td>\n",
       "      <td>1495.500000</td>\n",
       "      <td>0.045778</td>\n",
       "    </tr>\n",
       "    <tr>\n",
       "      <th>4</th>\n",
       "      <td>HYDR.ME</td>\n",
       "      <td>1050000</td>\n",
       "      <td>1.000</td>\n",
       "      <td>1.200</td>\n",
       "      <td>0.957068</td>\n",
       "      <td>0.752100</td>\n",
       "      <td>0.272528</td>\n",
       "    </tr>\n",
       "    <tr>\n",
       "      <th>5</th>\n",
       "      <td>OGKB.ME</td>\n",
       "      <td>0</td>\n",
       "      <td>0.850</td>\n",
       "      <td>1.000</td>\n",
       "      <td>0.805345</td>\n",
       "      <td>0.751900</td>\n",
       "      <td>0.071080</td>\n",
       "    </tr>\n",
       "    <tr>\n",
       "      <th>6</th>\n",
       "      <td>ROSN.ME</td>\n",
       "      <td>0</td>\n",
       "      <td>400.000</td>\n",
       "      <td>450.000</td>\n",
       "      <td>370.582910</td>\n",
       "      <td>366.750000</td>\n",
       "      <td>0.010451</td>\n",
       "    </tr>\n",
       "    <tr>\n",
       "      <th>7</th>\n",
       "      <td>GAZP.ME</td>\n",
       "      <td>8300</td>\n",
       "      <td>250.000</td>\n",
       "      <td>350.000</td>\n",
       "      <td>259.674558</td>\n",
       "      <td>187.130005</td>\n",
       "      <td>0.387669</td>\n",
       "    </tr>\n",
       "    <tr>\n",
       "      <th>8</th>\n",
       "      <td>MGNT.ME</td>\n",
       "      <td>100</td>\n",
       "      <td>5500.000</td>\n",
       "      <td>6500.000</td>\n",
       "      <td>5223.061558</td>\n",
       "      <td>4612.000000</td>\n",
       "      <td>0.132494</td>\n",
       "    </tr>\n",
       "    <tr>\n",
       "      <th>9</th>\n",
       "      <td>ALRS.ME</td>\n",
       "      <td>12000</td>\n",
       "      <td>90.000</td>\n",
       "      <td>120.000</td>\n",
       "      <td>91.033947</td>\n",
       "      <td>68.900002</td>\n",
       "      <td>0.321247</td>\n",
       "    </tr>\n",
       "    <tr>\n",
       "      <th>10</th>\n",
       "      <td>MTSS.ME</td>\n",
       "      <td>0</td>\n",
       "      <td>400.000</td>\n",
       "      <td>500.000</td>\n",
       "      <td>390.990357</td>\n",
       "      <td>330.549988</td>\n",
       "      <td>0.182848</td>\n",
       "    </tr>\n",
       "    <tr>\n",
       "      <th>11</th>\n",
       "      <td>LKOH.ME</td>\n",
       "      <td>20</td>\n",
       "      <td>6000.000</td>\n",
       "      <td>8000.000</td>\n",
       "      <td>6068.929825</td>\n",
       "      <td>5091.000000</td>\n",
       "      <td>0.192090</td>\n",
       "    </tr>\n",
       "    <tr>\n",
       "      <th>12</th>\n",
       "      <td>YNDX.ME</td>\n",
       "      <td>0</td>\n",
       "      <td>4000.000</td>\n",
       "      <td>6000.000</td>\n",
       "      <td>4318.052509</td>\n",
       "      <td>4393.000000</td>\n",
       "      <td>-0.017061</td>\n",
       "    </tr>\n",
       "    <tr>\n",
       "      <th>13</th>\n",
       "      <td>AFKS.ME</td>\n",
       "      <td>0</td>\n",
       "      <td>22.000</td>\n",
       "      <td>30.000</td>\n",
       "      <td>22.524842</td>\n",
       "      <td>20.059999</td>\n",
       "      <td>0.122874</td>\n",
       "    </tr>\n",
       "    <tr>\n",
       "      <th>14</th>\n",
       "      <td>TGKA.ME</td>\n",
       "      <td>0</td>\n",
       "      <td>0.014</td>\n",
       "      <td>0.016</td>\n",
       "      <td>0.013072</td>\n",
       "      <td>0.012050</td>\n",
       "      <td>0.084850</td>\n",
       "    </tr>\n",
       "    <tr>\n",
       "      <th>15</th>\n",
       "      <td>MAGN.ME</td>\n",
       "      <td>0</td>\n",
       "      <td>45.000</td>\n",
       "      <td>61.000</td>\n",
       "      <td>45.925123</td>\n",
       "      <td>39.490002</td>\n",
       "      <td>0.162956</td>\n",
       "    </tr>\n",
       "    <tr>\n",
       "      <th>16</th>\n",
       "      <td>TATNP.ME</td>\n",
       "      <td>0</td>\n",
       "      <td>600.000</td>\n",
       "      <td>800.000</td>\n",
       "      <td>606.892983</td>\n",
       "      <td>536.900024</td>\n",
       "      <td>0.130365</td>\n",
       "    </tr>\n",
       "    <tr>\n",
       "      <th>17</th>\n",
       "      <td>SNGSP.ME</td>\n",
       "      <td>0</td>\n",
       "      <td>45.000</td>\n",
       "      <td>60.000</td>\n",
       "      <td>45.516974</td>\n",
       "      <td>36.755001</td>\n",
       "      <td>0.238389</td>\n",
       "    </tr>\n",
       "    <tr>\n",
       "      <th>18</th>\n",
       "      <td>SIBN.ME</td>\n",
       "      <td>3250</td>\n",
       "      <td>400.000</td>\n",
       "      <td>500.000</td>\n",
       "      <td>390.990357</td>\n",
       "      <td>321.299988</td>\n",
       "      <td>0.216901</td>\n",
       "    </tr>\n",
       "  </tbody>\n",
       "</table>\n",
       "</div>"
      ],
      "text/plain": [
       "      ticker   amount  oneYearTarget  threeYearTarget          npv  \\\n",
       "0    RUAL.ME    84450         40.000           60.000    43.180525   \n",
       "1    RASP.ME    30000        150.000          200.000   151.723246   \n",
       "2    SBER.ME    10000        280.000          400.000   294.100697   \n",
       "3    QIWI.ME        0       1600.000         2000.000  1563.961428   \n",
       "4    HYDR.ME  1050000          1.000            1.200     0.957068   \n",
       "5    OGKB.ME        0          0.850            1.000     0.805345   \n",
       "6    ROSN.ME        0        400.000          450.000   370.582910   \n",
       "7    GAZP.ME     8300        250.000          350.000   259.674558   \n",
       "8    MGNT.ME      100       5500.000         6500.000  5223.061558   \n",
       "9    ALRS.ME    12000         90.000          120.000    91.033947   \n",
       "10   MTSS.ME        0        400.000          500.000   390.990357   \n",
       "11   LKOH.ME       20       6000.000         8000.000  6068.929825   \n",
       "12   YNDX.ME        0       4000.000         6000.000  4318.052509   \n",
       "13   AFKS.ME        0         22.000           30.000    22.524842   \n",
       "14   TGKA.ME        0          0.014            0.016     0.013072   \n",
       "15   MAGN.ME        0         45.000           61.000    45.925123   \n",
       "16  TATNP.ME        0        600.000          800.000   606.892983   \n",
       "17  SNGSP.ME        0         45.000           60.000    45.516974   \n",
       "18   SIBN.ME     3250        400.000          500.000   390.990357   \n",
       "\n",
       "          price    upside  \n",
       "0     30.100000  0.434569  \n",
       "1    112.820000  0.344826  \n",
       "2    226.809998  0.296683  \n",
       "3   1495.500000  0.045778  \n",
       "4      0.752100  0.272528  \n",
       "5      0.751900  0.071080  \n",
       "6    366.750000  0.010451  \n",
       "7    187.130005  0.387669  \n",
       "8   4612.000000  0.132494  \n",
       "9     68.900002  0.321247  \n",
       "10   330.549988  0.182848  \n",
       "11  5091.000000  0.192090  \n",
       "12  4393.000000 -0.017061  \n",
       "13    20.059999  0.122874  \n",
       "14     0.012050  0.084850  \n",
       "15    39.490002  0.162956  \n",
       "16   536.900024  0.130365  \n",
       "17    36.755001  0.238389  \n",
       "18   321.299988  0.216901  "
      ]
     },
     "execution_count": 2,
     "metadata": {},
     "output_type": "execute_result"
    }
   ],
   "source": [
    "import sqlite3\n",
    "\n",
    "import matplotlib.pyplot as plt\n",
    "import pandas as pd\n",
    "df=pd.read_csv('targets.csv')\n",
    "df['npv'] = df.apply(axis=1, func=lambda x : np.npv(0.07, [0, x.oneYearTarget,0,x.threeYearTarget])/2)\n",
    "ohlc = yf.download(df.ticker.to_list(), period=\"max\")\n",
    "prices=ohlc[\"Adj Close\"]\n",
    "prices=prices.dropna()\n",
    "\n",
    "df['price'] = df.apply(axis=1, func=lambda x : prices[x.ticker].iloc[-1])\n",
    "\n",
    "df['upside'] = (df.npv - df.price)/df.price\n",
    "\n",
    "df\n"
   ]
  },
  {
   "cell_type": "code",
   "execution_count": 3,
   "metadata": {},
   "outputs": [
    {
     "name": "stdout",
     "output_type": "stream",
     "text": [
      "failed for HYDR.ME\n",
      "failed for GAZP.ME\n"
     ]
    }
   ],
   "source": [
    "mcaps = {}\n",
    "for t in df.ticker.to_list():\n",
    "    try:\n",
    "        stock = yf.Ticker(t)\n",
    "        info=stock.info\n",
    "        mcaps[t] = info[\"sharesOutstanding\"]*info['regularMarketPrice']                \n",
    "    except: \n",
    "        print(f'failed for {t}')\n"
   ]
  },
  {
   "cell_type": "code",
   "execution_count": 4,
   "metadata": {},
   "outputs": [],
   "source": [
    "mcaps['GAZP.ME']=4430000000000\n",
    "mcaps['HYDR.ME']=321000000000"
   ]
  },
  {
   "cell_type": "markdown",
   "metadata": {},
   "source": [
    "## Constructing the prior"
   ]
  },
  {
   "cell_type": "code",
   "execution_count": 5,
   "metadata": {},
   "outputs": [
    {
     "data": {
      "text/plain": [
       "'1.2.4'"
      ]
     },
     "execution_count": 5,
     "metadata": {},
     "output_type": "execute_result"
    }
   ],
   "source": [
    "import pypfopt\n",
    "pypfopt.__version__"
   ]
  },
  {
   "cell_type": "code",
   "execution_count": 6,
   "metadata": {},
   "outputs": [],
   "source": [
    "from pypfopt import black_litterman, risk_models\n",
    "from pypfopt import BlackLittermanModel, plotting\n",
    "\n",
    "S = risk_models.CovarianceShrinkage(prices).ledoit_wolf()\n",
    "delta = 1.0\n"
   ]
  },
  {
   "cell_type": "code",
   "execution_count": 7,
   "metadata": {},
   "outputs": [
    {
     "data": {
      "image/png": "[encoded data removed]",
      "text/plain": [
       "<Figure size 432x288 with 2 Axes>"
      ]
     },
     "metadata": {
      "needs_background": "light"
     },
     "output_type": "display_data"
    }
   ],
   "source": [
    "plotting.plot_covariance(S);"
   ]
  },
  {
   "cell_type": "code",
   "execution_count": 8,
   "metadata": {},
   "outputs": [],
   "source": [
    "market_prior = black_litterman.market_implied_prior_returns(mcaps, delta, S)"
   ]
  },
  {
   "cell_type": "code",
   "execution_count": 9,
   "metadata": {},
   "outputs": [
    {
     "data": {
      "image/png": "[encoded data removed]",
      "text/plain": [
       "<Figure size 720x360 with 1 Axes>"
      ]
     },
     "metadata": {
      "needs_background": "light"
     },
     "output_type": "display_data"
    }
   ],
   "source": [
    "market_prior.plot.barh(figsize=(10,5));"
   ]
  },
  {
   "cell_type": "markdown",
   "metadata": {},
   "source": [
    "## Views\n",
    "\n",
    "In the BL method, views are specified via the matrix P (picking matrix) and the vector Q. Q contains the magnitude of each view, while P maps the views to the assets they belong to. \n",
    "\n",
    "If you are providing **absolute views** (i.e a return estimate for each asset), you don't have to worry about P and Q, you can just pass your views as a dictionary."
   ]
  },
  {
   "cell_type": "code",
   "execution_count": 10,
   "metadata": {},
   "outputs": [],
   "source": [
    "viewdict = df.set_index('ticker')['upside'].to_dict()\n",
    "bl = BlackLittermanModel(S, pi=market_prior, absolute_views=viewdict)"
   ]
  },
  {
   "cell_type": "markdown",
   "metadata": {},
   "source": [
    "Black-Litterman also allows for relative views, e.g you think asset A will outperform asset B by 10%. If you'd like to incorporate these, you will have to build P and Q yourself. An explanation for this is given in the [docs](https://pyportfolioopt.readthedocs.io/en/latest/BlackLitterman.html#views)."
   ]
  },
  {
   "cell_type": "code",
   "execution_count": 11,
   "metadata": {},
   "outputs": [],
   "source": [
    "# Posterior estimate of returns\n",
    "ret_bl = bl.bl_returns()"
   ]
  },
  {
   "cell_type": "markdown",
   "metadata": {},
   "source": [
    "We can visualise how this compares to the prior and our views:"
   ]
  },
  {
   "cell_type": "code",
   "execution_count": 12,
   "metadata": {},
   "outputs": [
    {
     "data": {
      "text/html": [
       "<div>\n",
       "<style scoped>\n",
       "    .dataframe tbody tr th:only-of-type {\n",
       "        vertical-align: middle;\n",
       "    }\n",
       "\n",
       "    .dataframe tbody tr th {\n",
       "        vertical-align: top;\n",
       "    }\n",
       "\n",
       "    .dataframe thead th {\n",
       "        text-align: right;\n",
       "    }\n",
       "</style>\n",
       "<table border=\"1\" class=\"dataframe\">\n",
       "  <thead>\n",
       "    <tr style=\"text-align: right;\">\n",
       "      <th></th>\n",
       "      <th>Prior</th>\n",
       "      <th>Posterior</th>\n",
       "      <th>Views</th>\n",
       "    </tr>\n",
       "  </thead>\n",
       "  <tbody>\n",
       "    <tr>\n",
       "      <th>AFKS.ME</th>\n",
       "      <td>0.052281</td>\n",
       "      <td>0.154366</td>\n",
       "      <td>0.122874</td>\n",
       "    </tr>\n",
       "    <tr>\n",
       "      <th>ALRS.ME</th>\n",
       "      <td>0.047586</td>\n",
       "      <td>0.231249</td>\n",
       "      <td>0.321247</td>\n",
       "    </tr>\n",
       "    <tr>\n",
       "      <th>GAZP.ME</th>\n",
       "      <td>0.056047</td>\n",
       "      <td>0.245836</td>\n",
       "      <td>0.387669</td>\n",
       "    </tr>\n",
       "    <tr>\n",
       "      <th>HYDR.ME</th>\n",
       "      <td>0.047081</td>\n",
       "      <td>0.194821</td>\n",
       "      <td>0.272528</td>\n",
       "    </tr>\n",
       "    <tr>\n",
       "      <th>LKOH.ME</th>\n",
       "      <td>0.063067</td>\n",
       "      <td>0.178898</td>\n",
       "      <td>0.192090</td>\n",
       "    </tr>\n",
       "    <tr>\n",
       "      <th>MAGN.ME</th>\n",
       "      <td>0.043210</td>\n",
       "      <td>0.160969</td>\n",
       "      <td>0.162956</td>\n",
       "    </tr>\n",
       "    <tr>\n",
       "      <th>MGNT.ME</th>\n",
       "      <td>0.042817</td>\n",
       "      <td>0.130914</td>\n",
       "      <td>0.132494</td>\n",
       "    </tr>\n",
       "    <tr>\n",
       "      <th>MTSS.ME</th>\n",
       "      <td>0.043541</td>\n",
       "      <td>0.154020</td>\n",
       "      <td>0.182848</td>\n",
       "    </tr>\n",
       "    <tr>\n",
       "      <th>OGKB.ME</th>\n",
       "      <td>0.054007</td>\n",
       "      <td>0.142256</td>\n",
       "      <td>0.071080</td>\n",
       "    </tr>\n",
       "    <tr>\n",
       "      <th>QIWI.ME</th>\n",
       "      <td>0.039457</td>\n",
       "      <td>0.073104</td>\n",
       "      <td>0.045778</td>\n",
       "    </tr>\n",
       "    <tr>\n",
       "      <th>RASP.ME</th>\n",
       "      <td>0.046940</td>\n",
       "      <td>0.244460</td>\n",
       "      <td>0.344826</td>\n",
       "    </tr>\n",
       "    <tr>\n",
       "      <th>ROSN.ME</th>\n",
       "      <td>0.064835</td>\n",
       "      <td>0.140129</td>\n",
       "      <td>0.010451</td>\n",
       "    </tr>\n",
       "    <tr>\n",
       "      <th>RUAL.ME</th>\n",
       "      <td>0.059099</td>\n",
       "      <td>0.297933</td>\n",
       "      <td>0.434569</td>\n",
       "    </tr>\n",
       "    <tr>\n",
       "      <th>SBER.ME</th>\n",
       "      <td>0.067153</td>\n",
       "      <td>0.237843</td>\n",
       "      <td>0.296683</td>\n",
       "    </tr>\n",
       "    <tr>\n",
       "      <th>SIBN.ME</th>\n",
       "      <td>0.053402</td>\n",
       "      <td>0.167318</td>\n",
       "      <td>0.216901</td>\n",
       "    </tr>\n",
       "    <tr>\n",
       "      <th>SNGSP.ME</th>\n",
       "      <td>0.028081</td>\n",
       "      <td>0.149042</td>\n",
       "      <td>0.238389</td>\n",
       "    </tr>\n",
       "    <tr>\n",
       "      <th>TATNP.ME</th>\n",
       "      <td>0.053454</td>\n",
       "      <td>0.145183</td>\n",
       "      <td>0.130365</td>\n",
       "    </tr>\n",
       "    <tr>\n",
       "      <th>TGKA.ME</th>\n",
       "      <td>0.051626</td>\n",
       "      <td>0.132456</td>\n",
       "      <td>0.084850</td>\n",
       "    </tr>\n",
       "    <tr>\n",
       "      <th>YNDX.ME</th>\n",
       "      <td>0.047647</td>\n",
       "      <td>0.072836</td>\n",
       "      <td>-0.017061</td>\n",
       "    </tr>\n",
       "  </tbody>\n",
       "</table>\n",
       "</div>"
      ],
      "text/plain": [
       "             Prior  Posterior     Views\n",
       "AFKS.ME   0.052281   0.154366  0.122874\n",
       "ALRS.ME   0.047586   0.231249  0.321247\n",
       "GAZP.ME   0.056047   0.245836  0.387669\n",
       "HYDR.ME   0.047081   0.194821  0.272528\n",
       "LKOH.ME   0.063067   0.178898  0.192090\n",
       "MAGN.ME   0.043210   0.160969  0.162956\n",
       "MGNT.ME   0.042817   0.130914  0.132494\n",
       "MTSS.ME   0.043541   0.154020  0.182848\n",
       "OGKB.ME   0.054007   0.142256  0.071080\n",
       "QIWI.ME   0.039457   0.073104  0.045778\n",
       "RASP.ME   0.046940   0.244460  0.344826\n",
       "ROSN.ME   0.064835   0.140129  0.010451\n",
       "RUAL.ME   0.059099   0.297933  0.434569\n",
       "SBER.ME   0.067153   0.237843  0.296683\n",
       "SIBN.ME   0.053402   0.167318  0.216901\n",
       "SNGSP.ME  0.028081   0.149042  0.238389\n",
       "TATNP.ME  0.053454   0.145183  0.130365\n",
       "TGKA.ME   0.051626   0.132456  0.084850\n",
       "YNDX.ME   0.047647   0.072836 -0.017061"
      ]
     },
     "execution_count": 12,
     "metadata": {},
     "output_type": "execute_result"
    }
   ],
   "source": [
    "rets_df = pd.DataFrame([market_prior, ret_bl, pd.Series(viewdict)], \n",
    "             index=[\"Prior\", \"Posterior\", \"Views\"]).T\n",
    "rets_df"
   ]
  },
  {
   "cell_type": "code",
   "execution_count": 13,
   "metadata": {},
   "outputs": [
    {
     "data": {
      "image/png": "[encoded data removed]",
      "text/plain": [
       "<Figure size 864x576 with 1 Axes>"
      ]
     },
     "metadata": {
      "needs_background": "light"
     },
     "output_type": "display_data"
    }
   ],
   "source": [
    "rets_df.plot.bar(figsize=(12,8));"
   ]
  },
  {
   "cell_type": "markdown",
   "metadata": {},
   "source": [
    "Notice that the posterior is always between the prior and the views. This supports the fact that the BL method is essentially a Bayesian weighted-average of the prior and views, where the weight is determined by the confidence.\n",
    "\n",
    "A similar but less intuitive procedure can be used to produce the posterior covariance estimate:"
   ]
  },
  {
   "cell_type": "code",
   "execution_count": 14,
   "metadata": {},
   "outputs": [
    {
     "data": {
      "image/png": "[encoded data removed]",
      "text/plain": [
       "<Figure size 432x288 with 2 Axes>"
      ]
     },
     "metadata": {
      "needs_background": "light"
     },
     "output_type": "display_data"
    }
   ],
   "source": [
    "S_bl = bl.bl_cov()\n",
    "plotting.plot_covariance(S_bl);"
   ]
  },
  {
   "cell_type": "markdown",
   "metadata": {},
   "source": [
    "## Portfolio allocation\n",
    "\n",
    "Now that we have constructed our Black-Litterman posterior estimate, we can proceed to use any of the optimisers discussed in previous recipes."
   ]
  },
  {
   "cell_type": "code",
   "execution_count": 15,
   "metadata": {},
   "outputs": [],
   "source": [
    "from pypfopt import EfficientFrontier, objective_functions"
   ]
  },
  {
   "cell_type": "code",
   "execution_count": 16,
   "metadata": {},
   "outputs": [
    {
     "name": "stderr",
     "output_type": "stream",
     "text": [
      "/opt/conda/lib/python3.7/site-packages/pypfopt/efficient_frontier.py:182: UserWarning: max_sharpe transforms the optimisation problem so additional objectives may not work as expected.\n",
      "  \"max_sharpe transforms the optimisation problem so additional objectives may not work as expected.\"\n"
     ]
    },
    {
     "data": {
      "text/plain": [
       "OrderedDict([('AFKS.ME', 0.03816),\n",
       "             ('ALRS.ME', 0.08576),\n",
       "             ('GAZP.ME', 0.09561),\n",
       "             ('HYDR.ME', 0.06576),\n",
       "             ('LKOH.ME', 0.0541),\n",
       "             ('MAGN.ME', 0.05052),\n",
       "             ('MGNT.ME', 0.03685),\n",
       "             ('MTSS.ME', 0.04908),\n",
       "             ('OGKB.ME', 0.02992),\n",
       "             ('QIWI.ME', 0.0092),\n",
       "             ('RASP.ME', 0.08678),\n",
       "             ('ROSN.ME', 0.03161),\n",
       "             ('RUAL.ME', 0.10292),\n",
       "             ('SBER.ME', 0.0814),\n",
       "             ('SIBN.ME', 0.05252),\n",
       "             ('SNGSP.ME', 0.05906),\n",
       "             ('TATNP.ME', 0.03753),\n",
       "             ('TGKA.ME', 0.02674),\n",
       "             ('YNDX.ME', 0.00646)])"
      ]
     },
     "execution_count": 16,
     "metadata": {},
     "output_type": "execute_result"
    }
   ],
   "source": [
    "ef = EfficientFrontier(ret_bl, S_bl)\n",
    "ef.add_objective(objective_functions.L2_reg)\n",
    "ef.max_sharpe()\n",
    "weights = ef.clean_weights()\n"
   ]
  },
  {
   "cell_type": "code",
   "execution_count": 22,
   "metadata": {},
   "outputs": [
    {
     "name": "stdout",
     "output_type": "stream",
     "text": [
      "[*********************100%***********************]  1 of 1 completed\n"
     ]
    },
    {
     "data": {
      "text/plain": [
       "73.40299987792969"
      ]
     },
     "execution_count": 22,
     "metadata": {},
     "output_type": "execute_result"
    }
   ],
   "source": [
    "usdrub=yf.download('RUB=X', period=\"1d\").Close.iloc[0]"
   ]
  },
  {
   "cell_type": "code",
   "execution_count": 28,
   "metadata": {},
   "outputs": [
    {
     "data": {
      "text/plain": [
       "Total Cap (k)          15507.89\n",
       "Total Cash (k)          2536.32\n",
       "Stocks %                  83.64\n",
       "Target Stock Exp (k)   12406.31\n",
       "dtype: float64"
      ]
     },
     "execution_count": 28,
     "metadata": {},
     "output_type": "execute_result"
    }
   ],
   "source": [
    "stocksCap=df.apply(axis=1, func=lambda x :  x.price*x.amount).sum()\n",
    "rubCash=401000+252000 + 419000\n",
    "usdCash=4083+15866\n",
    "totalCash=rubCash+usdCash*usdrub\n",
    "totalCap=stocksCap + totalCash\n",
    "\n",
    "stocksExposurePct=0.8\n",
    "\n",
    "targetStocksExposure=stocksExposurePct*totalCap\n",
    "\n",
    "pd.Series({'Total Cap (k)' : totalCap/1000, \n",
    "           'Total Cash (k)' : totalCash/1000, \n",
    "           'Stocks %' : stocksCap/totalCap*100,\n",
    "           'Target Stock Exp (k)' : targetStocksExposure/1000,\n",
    "          }\n",
    "         )\n",
    "\n"
   ]
  },
  {
   "cell_type": "code",
   "execution_count": 17,
   "metadata": {},
   "outputs": [
    {
     "data": {
      "text/plain": [
       "<matplotlib.axes._subplots.AxesSubplot at 0x7f7c45d5e090>"
      ]
     },
     "execution_count": 17,
     "metadata": {},
     "output_type": "execute_result"
    },
    {
     "data": {
      "image/png": "[encoded data removed]",
      "text/plain": [
       "<Figure size 432x288 with 1 Axes>"
      ]
     },
     "metadata": {
      "needs_background": "light"
     },
     "output_type": "display_data"
    }
   ],
   "source": [
    "(pd.Series(weights)*targetStocksExposure).sort_values(ascending=False).plot.bar()"
   ]
  },
  {
   "cell_type": "code",
   "execution_count": 32,
   "metadata": {},
   "outputs": [
    {
     "data": {
      "text/html": [
       "<div>\n",
       "<style scoped>\n",
       "    .dataframe tbody tr th:only-of-type {\n",
       "        vertical-align: middle;\n",
       "    }\n",
       "\n",
       "    .dataframe tbody tr th {\n",
       "        vertical-align: top;\n",
       "    }\n",
       "\n",
       "    .dataframe thead th {\n",
       "        text-align: right;\n",
       "    }\n",
       "</style>\n",
       "<table border=\"1\" class=\"dataframe\">\n",
       "  <thead>\n",
       "    <tr style=\"text-align: right;\">\n",
       "      <th></th>\n",
       "      <th>ticker</th>\n",
       "      <th>cap-k</th>\n",
       "      <th>adjust-needed-k</th>\n",
       "    </tr>\n",
       "  </thead>\n",
       "  <tbody>\n",
       "    <tr>\n",
       "      <th>0</th>\n",
       "      <td>RUAL.ME</td>\n",
       "      <td>2541.95</td>\n",
       "      <td>-1265.09</td>\n",
       "    </tr>\n",
       "    <tr>\n",
       "      <th>1</th>\n",
       "      <td>RASP.ME</td>\n",
       "      <td>3384.60</td>\n",
       "      <td>-2307.98</td>\n",
       "    </tr>\n",
       "    <tr>\n",
       "      <th>2</th>\n",
       "      <td>SBER.ME</td>\n",
       "      <td>2268.10</td>\n",
       "      <td>-1258.23</td>\n",
       "    </tr>\n",
       "    <tr>\n",
       "      <th>3</th>\n",
       "      <td>QIWI.ME</td>\n",
       "      <td>0.00</td>\n",
       "      <td>114.14</td>\n",
       "    </tr>\n",
       "    <tr>\n",
       "      <th>4</th>\n",
       "      <td>HYDR.ME</td>\n",
       "      <td>789.70</td>\n",
       "      <td>26.13</td>\n",
       "    </tr>\n",
       "    <tr>\n",
       "      <th>5</th>\n",
       "      <td>OGKB.ME</td>\n",
       "      <td>0.00</td>\n",
       "      <td>371.20</td>\n",
       "    </tr>\n",
       "    <tr>\n",
       "      <th>6</th>\n",
       "      <td>ROSN.ME</td>\n",
       "      <td>0.00</td>\n",
       "      <td>392.16</td>\n",
       "    </tr>\n",
       "    <tr>\n",
       "      <th>7</th>\n",
       "      <td>GAZP.ME</td>\n",
       "      <td>1553.18</td>\n",
       "      <td>-367.01</td>\n",
       "    </tr>\n",
       "    <tr>\n",
       "      <th>8</th>\n",
       "      <td>MGNT.ME</td>\n",
       "      <td>461.20</td>\n",
       "      <td>-4.03</td>\n",
       "    </tr>\n",
       "    <tr>\n",
       "      <th>9</th>\n",
       "      <td>ALRS.ME</td>\n",
       "      <td>826.80</td>\n",
       "      <td>237.16</td>\n",
       "    </tr>\n",
       "    <tr>\n",
       "      <th>10</th>\n",
       "      <td>MTSS.ME</td>\n",
       "      <td>0.00</td>\n",
       "      <td>608.90</td>\n",
       "    </tr>\n",
       "    <tr>\n",
       "      <th>11</th>\n",
       "      <td>LKOH.ME</td>\n",
       "      <td>101.82</td>\n",
       "      <td>569.36</td>\n",
       "    </tr>\n",
       "    <tr>\n",
       "      <th>12</th>\n",
       "      <td>YNDX.ME</td>\n",
       "      <td>0.00</td>\n",
       "      <td>80.14</td>\n",
       "    </tr>\n",
       "    <tr>\n",
       "      <th>13</th>\n",
       "      <td>AFKS.ME</td>\n",
       "      <td>0.00</td>\n",
       "      <td>473.42</td>\n",
       "    </tr>\n",
       "    <tr>\n",
       "      <th>14</th>\n",
       "      <td>TGKA.ME</td>\n",
       "      <td>0.00</td>\n",
       "      <td>331.74</td>\n",
       "    </tr>\n",
       "    <tr>\n",
       "      <th>15</th>\n",
       "      <td>MAGN.ME</td>\n",
       "      <td>0.00</td>\n",
       "      <td>626.77</td>\n",
       "    </tr>\n",
       "    <tr>\n",
       "      <th>16</th>\n",
       "      <td>TATNP.ME</td>\n",
       "      <td>0.00</td>\n",
       "      <td>465.61</td>\n",
       "    </tr>\n",
       "    <tr>\n",
       "      <th>17</th>\n",
       "      <td>SNGSP.ME</td>\n",
       "      <td>0.00</td>\n",
       "      <td>732.72</td>\n",
       "    </tr>\n",
       "    <tr>\n",
       "      <th>18</th>\n",
       "      <td>SIBN.ME</td>\n",
       "      <td>1044.22</td>\n",
       "      <td>-392.64</td>\n",
       "    </tr>\n",
       "  </tbody>\n",
       "</table>\n",
       "</div>"
      ],
      "text/plain": [
       "      ticker   cap-k  adjust-needed-k\n",
       "0    RUAL.ME 2541.95         -1265.09\n",
       "1    RASP.ME 3384.60         -2307.98\n",
       "2    SBER.ME 2268.10         -1258.23\n",
       "3    QIWI.ME    0.00           114.14\n",
       "4    HYDR.ME  789.70            26.13\n",
       "5    OGKB.ME    0.00           371.20\n",
       "6    ROSN.ME    0.00           392.16\n",
       "7    GAZP.ME 1553.18          -367.01\n",
       "8    MGNT.ME  461.20            -4.03\n",
       "9    ALRS.ME  826.80           237.16\n",
       "10   MTSS.ME    0.00           608.90\n",
       "11   LKOH.ME  101.82           569.36\n",
       "12   YNDX.ME    0.00            80.14\n",
       "13   AFKS.ME    0.00           473.42\n",
       "14   TGKA.ME    0.00           331.74\n",
       "15   MAGN.ME    0.00           626.77\n",
       "16  TATNP.ME    0.00           465.61\n",
       "17  SNGSP.ME    0.00           732.72\n",
       "18   SIBN.ME 1044.22          -392.64"
      ]
     },
     "execution_count": 32,
     "metadata": {},
     "output_type": "execute_result"
    }
   ],
   "source": [
    "targetMoney=pd.Series(weights)*targetStocksExposure\n",
    "\n",
    "df['adjust-needed-k']=df.apply(axis=1, func=lambda x :  int(targetMoney[x.ticker] - x.price*x.amount)/1000 )\n",
    "\n",
    "df['cap-k']=df.apply(axis=1, func=lambda x :  (x.price*x.amount)/1000 )\n",
    "\n",
    "pd.set_option('display.float_format', lambda x: '%.2f' % x)\n",
    "\n",
    "df[['ticker', 'cap-k','adjust-needed-k']]\n"
   ]
  }
 ],
 "metadata": {
  "kernelspec": {
   "display_name": "Python 3",
   "language": "python",
   "name": "python3"
  },
  "language_info": {
   "codemirror_mode": {
    "name": "ipython",
    "version": 3
   },
   "file_extension": ".py",
   "mimetype": "text/x-python",
   "name": "python",
   "nbconvert_exporter": "python",
   "pygments_lexer": "ipython3",
   "version": "3.7.6"
  }
 },
 "nbformat": 4,
 "nbformat_minor": 4
}
